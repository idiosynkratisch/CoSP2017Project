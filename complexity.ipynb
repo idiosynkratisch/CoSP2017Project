{
 "cells": [
  {
   "cell_type": "code",
   "execution_count": null,
   "metadata": {
    "collapsed": true
   },
   "outputs": [],
   "source": [
    "from swda_time import CorpusReader\n",
    "from random import randrange\n",
    "from itertools import chain\n",
    "import complexity\n",
    "from nltk.tree import Tree\n",
    "import numpy as np\n",
    "\n",
    "swbd = CorpusReader('swda_complete', 'swda_complete/swda-metadata.csv')\n",
    "bnc = CorpusReader('bnc_complete', 'bnc_complete/bnc-metadata.csv')\n",
    "\n",
    "corpus = swbd"
   ]
  },
  {
   "cell_type": "code",
   "execution_count": null,
   "metadata": {},
   "outputs": [
    {
     "name": "stderr",
     "output_type": "stream",
     "text": [
      "utterance 739"
     ]
    },
    {
     "name": "stdout",
     "output_type": "stream",
     "text": [
      "(S\n",
      "  (NP-SBJ-1 (PRP it))\n",
      "  (VP\n",
      "    (VBD turned)\n",
      "    (PRT (RP out))\n",
      "    (S\n",
      "      (NP-SBJ (-NONE- *-1))\n",
      "      (VP\n",
      "        (TO to)\n",
      "        (VP\n",
      "          (VB be)\n",
      "          (, ,)\n",
      "          (INTJ (UH uh))\n",
      "          (, ,)\n",
      "          (INTJ (UH uh))\n",
      "          (, ,)\n",
      "          (NP-PRD (DT an) (NN invitation))))))\n",
      "  (. .)\n",
      "  (-DFL- E_S))\n",
      "Length: 14\n",
      "Depth: 8\n",
      "Width: 1.53846153846\n"
     ]
    }
   ],
   "source": [
    "#find a random example and compute the non-normalized measures\n",
    "iterator = corpus.iter_utterances()\n",
    "\n",
    "for i in range(randrange(1000)):\n",
    "    s = iterator.next()\n",
    "\n",
    "for tree in s.trees:\n",
    "    print tree\n",
    "    print 'Length: {}'.format(complexity.length(tree))\n",
    "    print 'Depth: {}'.format(complexity.depth(tree))\n",
    "    print 'Width: {}'.format(complexity.width(tree))\n",
    "    #print 'Depth*width: {}'.format(complexity.balanced(tree))\n",
    "    print 'Balanced depth*width: {}'.format(complexity.balanced2(tree))\n",
    "    print 'Average depth: {}'.format(complexity.avdepth(tree))\n",
    "print \"Lu's measures:\"\n",
    "for item in complexity.lus_measures(s.trees).items():\n",
    "    print'{}:{}'.format(*item)\n",
    "    "
   ]
  },
  {
   "cell_type": "code",
   "execution_count": null,
   "metadata": {},
   "outputs": [],
   "source": [
    "#print the normalized measures for the random example\n",
    "for tree in s.trees:\n",
    "    print 'Normalized depth: {}'.format(complexity.ndepth(tree))\n",
    "    print 'Normalized width: {}'.format(complexity.nwidth(tree))\n",
    "    #print 'Normalized depth*width: {}'.format(complexity.nbalanced(tree))\n",
    "    print 'Normalized balanced depth*width: {}'.format(complexity.nbalanced2(tree))\n",
    "    print 'Normalized average depth: {}'.format(complexity.n_avdepth(tree))"
   ]
  },
  {
   "cell_type": "code",
   "execution_count": null,
   "metadata": {
    "collapsed": true
   },
   "outputs": [],
   "source": [
    "# dicts with the measures for easy iteration\n",
    "# add additional measures here\n",
    "measures = {'length': complexity.length,\n",
    "            'depth': complexity.depth,\n",
    "            'width': complexity.width,\n",
    "            'depth*width': complexity.balanced,\n",
    "            'balanced depth*width': complexity.balanced2,\n",
    "            'average depth': complexity.avdepth,\n",
    "            'normalized depth': complexity.ndepth,\n",
    "            'normalized width': complexity.nwidth,\n",
    "            'normalized depth*width': complexity.nbalanced,\n",
    "            'normalized average depth': complexity.n_avdepth,\n",
    "            'normalized balanced depth*width': complexity.nbalanced2}\n",
    "\n",
    "non_normalized_measures = {'length': complexity.length,\n",
    "                           'depth': complexity.depth,\n",
    "                           'width': complexity.width,\n",
    "                           'average depth': complexity.avdepth,\n",
    "                           'depth*width': complexity.balanced,\n",
    "                           'balanced depth*width': complexity.balanced2}\n",
    "\n",
    "normalized_measures = {'normalized depth': complexity.ndepth,\n",
    "                       'normalized width': complexity.nwidth,\n",
    "                       'normalized depth*width': complexity.nbalanced,\n",
    "                       'normalized average depth': complexity.n_avdepth,\n",
    "                       'normalized balanced depth*width': complexity.nbalanced2}\n",
    "\n",
    "# dict of sets (to avoid duplicates) for the results\n",
    "ordered_results = dict([(measure, []) for measure in measures])\n",
    "\n",
    "for conv in corpus.iter_transcripts(display_progress=False):\n",
    "    for utt in conv.utterances:\n",
    "        for tree in utt.trees:\n",
    "            #Trees need to be cast to string to be hashable for duplicate removal\n",
    "            string = str(tree)\n",
    "            for measure in measures:\n",
    "                ordered_results[measure].append((conv.conversation_no, measures[measure](tree), string))\n",
    "\n",
    "results = {}\n",
    "#remove duplicates from results            \n",
    "for measure in ordered_results:\n",
    "    results[measure] = list(set(ordered_results[measure]))\n",
    "    results[measure].sort(key=lambda x: x[1])\n",
    "\n",
    "#compute results closest to average\n",
    "av_results = {}\n",
    "\n",
    "for measure in non_normalized_measures:\n",
    "    mean = np.mean([x[1] for x in results[measure]])\n",
    "    av_results[measure] = sorted(results[measure], key=lambda x: abs(x[1] - mean), reverse=True)\n",
    "for measure in normalized_measures:\n",
    "    av_results[measure] = sorted(results[measure], key=lambda x: abs(x[1] - 1), reverse=True)"
   ]
  },
  {
   "cell_type": "code",
   "execution_count": null,
   "metadata": {},
   "outputs": [],
   "source": [
    "# code to display top, bot and closest to average n trees per measure\n",
    "\n",
    "n = 5 #length of lists to be displayed\n",
    "\n",
    "# modifiers with associated functions\n",
    "mods = {'Most': lambda x: x[len(x)-n:], 'Least': lambda x: x[:n]}\n",
    "\n",
    "for measure in measures:\n",
    "    for modifier in mods:\n",
    "        print '{} complex trees by {}:\\n'.format(modifier, measure)\n",
    "        for i, item in enumerate(mods[modifier](results[measure]), 1):\n",
    "            tree = Tree.fromstring(item[2])\n",
    "            text = str(tree.flatten()).replace('\\n', '')\n",
    "            print '{}.(from conv. no. {}) {} \\n {}\\n'.format(i, item[0], text, tree)\n",
    "        print '\\n'\n",
    "\n",
    "for measure in av_results:\n",
    "    print 'Closest to average trees by {}\\n'.format(measure)\n",
    "    for i, item in enumerate(mods['Most'](av_results[measure]), 1):\n",
    "        tree = Tree.fromstring(item[2])\n",
    "        text = str(tree.flatten()).replace('\\n', '')\n",
    "        print '{}.(from conv. no. {}) {} \\n {}\\n'.format(i, item[0], text, tree)"
   ]
  },
  {
   "cell_type": "code",
   "execution_count": null,
   "metadata": {},
   "outputs": [],
   "source": [
    "for measure in results:\n",
    "    print len(results[measure])\n",
    "    \n",
    "for i, item in enumerate(ordered_results['normalized depth']):\n",
    "    assert item[2] == ordered_results['normalized average depth'][i][2]"
   ]
  },
  {
   "cell_type": "code",
   "execution_count": null,
   "metadata": {},
   "outputs": [],
   "source": [
    "# code to find distinguishing sentences for each (sensible) pair of normalized measures\n",
    "\n",
    "i = 0\n",
    "measure_list = list(normalized_measures)\n",
    "diff = {}\n",
    "\n",
    "while i < len(measure_list):\n",
    "    one = measure_list[i]\n",
    "    data_one = [x[1] for x in ordered_results[one]]\n",
    "    for other in measure_list[i + 1:]:\n",
    "        data_other = [x[1] for x in ordered_results[other]]\n",
    "        comp = zip(data_one, data_other)\n",
    "        index, values = max(enumerate(comp), key=lambda x: abs(x[1][0] - x[1][1]))\n",
    "        # sanity check: Are these actually values for the same tree?\n",
    "        #               Do they actually have these values?\n",
    "        assert ordered_results[one][index][2] == ordered_results[other][index][2]\n",
    "        assert ordered_results[one][index][1] == values[0]\n",
    "        assert ordered_results[other][index][1] == values[1]\n",
    "        tree = ordered_results[one][index][2]\n",
    "        diff[(one, other)] = (tree, values)\n",
    "    i += 1\n",
    "    \n",
    "for pair in diff:\n",
    "    print 'Largest difference in value between {} and {}:'.format(*pair)\n",
    "    tree, values = diff[pair]\n",
    "    print 'Value for {pair[0]}: {values[0]}, value for {pair[1]}: {values[1]}'.format(pair=pair, values=values)\n",
    "    print Tree.fromstring(tree)"
   ]
  },
  {
   "cell_type": "code",
   "execution_count": null,
   "metadata": {
    "collapsed": true
   },
   "outputs": [],
   "source": [
    "all_swbd_trees = {}\n",
    "\n",
    "for conv in swbd.iter_transcripts(display_progress=False):\n",
    "    trees = {'A': set(), 'B': set()}\n",
    "    for ut in conv.utterances:\n",
    "        trees[ut.caller].add(tuple([str(tree) for tree in ut.trees]))\n",
    "    all_swbd_trees[conv.conversation_no] = trees"
   ]
  },
  {
   "cell_type": "code",
   "execution_count": null,
   "metadata": {
    "collapsed": true
   },
   "outputs": [],
   "source": [
    "# code to check whether there are parts of either corpus for which Lu's measures make sense\n",
    "# in the sense of being non-zero for more than half of each speaker's utterances that have distinct trees\n",
    "\n",
    "lu_measure_list = ['MLC', 'MLT',\n",
    "                   'C/S',\n",
    "                   'C/T', 'CT/T', 'DC/C', 'DC/T',\n",
    "                   'CP/C', 'CP/T', 'T/S',\n",
    "                   'CN/C', 'CN/T', 'VP/T']\n",
    "    \n",
    "swbd_results = dict([(conv, dict([(measure, dict([(speaker, []) for speaker in ('A', 'B')])) for measure in lu_measure_list])) for conv in all_swbd_trees])\n",
    "swbd_defined = dict([(conv, dict([(measure, dict([(speaker, []) for speaker in ('A', 'B')])) for measure in lu_measure_list])) for conv in all_swbd_trees])\n",
    "  \n",
    "good_convs = dict([(measure, []) for measure in lu_measure_list])\n",
    "                    \n",
    "for conv in all_swbd_trees:\n",
    "    for speaker in all_swbd_trees[conv]:\n",
    "        for trees in all_swbd_trees[conv][speaker]:\n",
    "            Trees = [Tree.fromstring(tree) for tree in trees]\n",
    "            measures = complexity.lus_measures(Trees)\n",
    "            for measure in measures:\n",
    "                swbd_results[conv][measure][speaker].append(measures[measure])\n",
    "                if measures[measure] == 0.0 or measures[measure] == None:\n",
    "                    swbd_defined[conv][measure][speaker].append(0.0)\n",
    "                else:\n",
    "                    swbd_defined[conv][measure][speaker].append(1.0)\n",
    "        for measure in swbd_defined[conv]:\n",
    "            swbd_defined[conv][measure][speaker] = np.mean(swbd_defined[conv][measure][speaker])\n",
    "    for measure in good_convs:\n",
    "        if swbd_defined[conv][measure]['A'] >= 0.5 and swbd_defined[conv][measure]['B'] >= 0.5:\n",
    "            good_convs[measure].append(conv)\n",
    "\n",
    "for measure, convs in good_convs.items():\n",
    "    print '{}: {}'.format(measure, len(convs))\n",
    "                    \n",
    "\n",
    "                    \n",
    "\"\"\"\n",
    "all_bnc_trees = {}    \n",
    "    \n",
    "for conv in bnc.iter_transcripts(display_progess=False):\n",
    "    trees = {'A': set(), 'B': set()}\n",
    "    for ut in conv.utterances:\n",
    "        trees[ut.caller].add(tuple([str(tree) for tree in ut.trees]))\n",
    "    all_bnc_trees[conv.conversation_no] = trees\n",
    "\"\"\""
   ]
  },
  {
   "cell_type": "code",
   "execution_count": null,
   "metadata": {
    "collapsed": true
   },
   "outputs": [],
   "source": []
  }
 ],
 "metadata": {
  "kernelspec": {
   "display_name": "Python 2",
   "language": "python",
   "name": "python2"
  },
  "language_info": {
   "codemirror_mode": {
    "name": "ipython",
    "version": 2
   },
   "file_extension": ".py",
   "mimetype": "text/x-python",
   "name": "python",
   "nbconvert_exporter": "python",
   "pygments_lexer": "ipython2",
   "version": "2.7.14"
  }
 },
 "nbformat": 4,
 "nbformat_minor": 2
}
