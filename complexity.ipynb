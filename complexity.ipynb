{
 "cells": [
  {
   "cell_type": "code",
   "execution_count": 1,
   "metadata": {},
   "outputs": [],
   "source": [
    "from swda_time import CorpusReader\n",
    "from random import randrange\n",
    "import complexity\n",
    "from nltk.tree import Tree\n",
    "\n",
    "corpus = CorpusReader('swda', 'swda/swda-metadata.csv')"
   ]
  },
  {
   "cell_type": "code",
   "execution_count": 2,
   "metadata": {},
   "outputs": [
    {
     "name": "stderr",
     "output_type": "stream",
     "text": [
      "utterance 214"
     ]
    },
    {
     "name": "stdout",
     "output_type": "stream",
     "text": [
      "(S\n",
      "  (CC and)\n",
      "  (EDITED\n",
      "    (RM (-DFL- \\[))\n",
      "    (NP-SBJ-UNF (XX tha-))\n",
      "    (, ,)\n",
      "    (IP (-DFL- \\+)))\n",
      "  (NP-SBJ (PRP they))\n",
      "  (RS (-DFL- \\]))\n",
      "  (VP\n",
      "    (VBD did)\n",
      "    (RB n't)\n",
      "    (VP\n",
      "      (VB find)\n",
      "      (NP (NP (DT any) (NN problem)) (PP (IN with) (NP (DT that))))\n",
      "      (PRN (, ,) (S (NP-SBJ (PRP you)) (VP (VBP know))))))\n",
      "  (, ,)\n",
      "  (-DFL- E_S))\n",
      "Length: 18\n",
      "Depth: 8\n",
      "Width: 1.5\n",
      "Depth*width: 12.0\n",
      "Average depth: 5.26315789474\n"
     ]
    }
   ],
   "source": [
    "#find a random example and compute the non-normalized measures\n",
    "iterator = corpus.iter_utterances()\n",
    "\n",
    "for i in range(randrange(1000)):\n",
    "    s = iterator.next()\n",
    "\n",
    "for tree in s.trees:\n",
    "    print tree\n",
    "    print 'Length: {}'.format(complexity.length(tree))\n",
    "    print 'Depth: {}'.format(complexity.depth(tree))\n",
    "    print 'Width: {}'.format(complexity.width(tree))\n",
    "    print 'Depth*width: {}'.format(complexity.balanced(tree))\n",
    "    print 'Average depth: {}'.format(complexity.avdepth(tree))"
   ]
  },
  {
   "cell_type": "code",
   "execution_count": null,
   "metadata": {},
   "outputs": [],
   "source": [
    "#print the normalized measures for the random example\n",
    "for tree in s.trees:\n",
    "    print 'Normalized depth: {}'.format(complexity.ndepth(tree))\n",
    "    print 'Normalized width: {}'.format(complexity.nwidth(tree))\n",
    "    print 'Normalized depth*width: {}'.format(complexity.nbalanced(tree))\n",
    "    print 'Normalized average depth: {}'.format(complexity.n_avdepth(tree))"
   ]
  },
  {
   "cell_type": "code",
   "execution_count": null,
   "metadata": {},
   "outputs": [],
   "source": [
    "# dict with the measures for easy iteration\n",
    "measures = {'normalized depth': complexity.ndepth,\n",
    "            'normalized width': complexity.nwidth,\n",
    "            'normalized depth*width': complexity.balanced,\n",
    "            'normalized average depth': complexity.n_avdepth}\n",
    "\n",
    "# dict of sets (to avoid duplicates) for the results\n",
    "results = dict([(measure, set()) for measure in measures])\n",
    "\n",
    "for conv in corpus.iter_transcripts(display_progress=False):\n",
    "    for utt in conv.utterances:\n",
    "        for tree in utt.trees:\n",
    "            for measure in measures:\n",
    "                # Trees need to be cast to string to be hashable\n",
    "                results[measure].add((conv.conversation_no, measures[measure](tree), str(tree)))\n",
    "\n",
    "def reconstruct_tree(item):\n",
    "    \"\"\"\n",
    "    Helper function to turn the (hashable) string representation back into a Tree\n",
    "    \"\"\"\n",
    "    item = list(item)\n",
    "    item[2] = Tree.fromstring(item[2])\n",
    "    return tuple(item)\n",
    "\n",
    "for measure in results:\n",
    "    results[measure] = map(reconstruct_tree, results[measure])\n",
    "    results[measure].sort(key=lambda x: x[1])\n",
    "\n",
    "av_results = {}\n",
    "for measure in measures:\n",
    "    av_results[measure] = sorted(results[measure], key=lambda x: abs(x[1] - 1))"
   ]
  },
  {
   "cell_type": "code",
   "execution_count": null,
   "metadata": {},
   "outputs": [],
   "source": [
    "# modifiers with associated functions\n",
    "mods = {'Most': lambda x: x[len(x)-10:], 'Least': lambda x: x[:10]}\n",
    "\n",
    "for measure in measures:\n",
    "    for modifier in mods:\n",
    "        print '{} complex trees by {}:\\n'.format(modifier, measure)\n",
    "        for i, item in enumerate(mods[modifier](results[measure]), 1):\n",
    "            text = str(item[2].flatten()).replace('\\n', '')\n",
    "            print '{}. {item[0]} {} \\n {item[2]!s}'.format(i, text, item=item)\n",
    "        print '\\n'\n",
    "\n",
    "for measure in av_results:\n",
    "    print 'Closest to average trees by {}'.format(name)\n",
    "    for i, item in enumerate(av_results[measure][:10]), 1):\n",
    "        text = str(item[2].flatten()).replace('\\n', '')\n",
    "        print '{}. {item[0]} {} \\n {item[2]!s}'.format(i, text, item=item)"
   ]
  },
  {
   "cell_type": "code",
   "execution_count": null,
   "metadata": {
    "collapsed": true
   },
   "outputs": [],
   "source": []
  }
 ],
 "metadata": {
  "kernelspec": {
   "display_name": "Python 2",
   "language": "python",
   "name": "python2"
  },
  "language_info": {
   "codemirror_mode": {
    "name": "ipython",
    "version": 2
   },
   "file_extension": ".py",
   "mimetype": "text/x-python",
   "name": "python",
   "nbconvert_exporter": "python",
   "pygments_lexer": "ipython2",
   "version": "2.7.14"
  }
 },
 "nbformat": 4,
 "nbformat_minor": 2
}
