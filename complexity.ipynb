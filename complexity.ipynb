{
 "cells": [
  {
   "cell_type": "code",
   "execution_count": 1,
   "metadata": {},
   "outputs": [
    {
     "name": "stderr",
     "output_type": "stream",
     "text": [
      "utterance 256"
     ]
    },
    {
     "name": "stdout",
     "output_type": "stream",
     "text": [
      "[Tree('S', [Tree('NP-SBJ', [Tree('PRP', ['They'])]), Tree('VP', [Tree('VBD', ['said']), Tree('SBAR', [Tree('-NONE-', ['0']), Tree('S', [Tree('NP-SBJ-1', [Tree('PRP', ['it'])]), Tree('VP', [Tree('VBD', ['was']), Tree('VP', [Tree('VBG', ['going']), Tree('S', [Tree('NP-SBJ', [Tree('-NONE-', ['*-1'])]), Tree('VP', [Tree('TO', ['to']), Tree('VP', [Tree('VB', ['be']), Tree('NP-PRD', [Tree('DT', ['a']), Tree('NN', ['physical'])])])])])])])])]), Tree('PRN', [Tree(',', [',']), Tree('S', [Tree('NP-SBJ', [Tree('PRP', ['you'])]), Tree('VP', [Tree('VBP', ['know'])])])])]), Tree(',', [',']), Tree('-DFL-', ['E_S'])])]\n"
     ]
    }
   ],
   "source": [
    "from swda_time import CorpusReader\n",
    "from random import randrange\n",
    "import complexity\n",
    "\n",
    "corpus = CorpusReader('swda', 'swda/swda-metadata.csv')\n",
    "iterator = corpus.iter_utterances()\n",
    "\n",
    "for i in range(randrange(500)):\n",
    "    s = iterator.next()\n",
    "    \n",
    "print s.trees    "
   ]
  },
  {
   "cell_type": "code",
   "execution_count": 8,
   "metadata": {},
   "outputs": [
    {
     "name": "stdout",
     "output_type": "stream",
     "text": [
      "(S\n",
      "  (NP-SBJ (PRP They))\n",
      "  (VP\n",
      "    (VBD said)\n",
      "    (SBAR\n",
      "      (-NONE- 0)\n",
      "      (S\n",
      "        (NP-SBJ-1 (PRP it))\n",
      "        (VP\n",
      "          (VBD was)\n",
      "          (VP\n",
      "            (VBG going)\n",
      "            (S\n",
      "              (NP-SBJ (-NONE- *-1))\n",
      "              (VP (TO to) (VP (VB be) (NP-PRD (DT a) (NN physical)))))))))\n",
      "    (PRN (, ,) (S (NP-SBJ (PRP you)) (VP (VBP know)))))\n",
      "  (, ,)\n",
      "  (-DFL- E_S))\n"
     ]
    }
   ],
   "source": [
    "for tree in s.trees:\n",
    "    print tree"
   ]
  },
  {
   "cell_type": "code",
   "execution_count": 9,
   "metadata": {},
   "outputs": [
    {
     "name": "stdout",
     "output_type": "stream",
     "text": [
      "15\n",
      "12\n",
      "1.45454545455\n",
      "17.4545454545\n"
     ]
    }
   ],
   "source": [
    "for tree in s.trees:\n",
    "    print complexity.length(tree)\n",
    "    print complexity.depth(tree)\n",
    "    print complexity.width(tree)\n",
    "    print complexity.balanced(tree)\n",
    "    "
   ]
  },
  {
   "cell_type": "code",
   "execution_count": 4,
   "metadata": {},
   "outputs": [],
   "source": [
    "from nltk.tree import Tree\n",
    "complexity.compute_averages(corpus)"
   ]
  },
  {
   "cell_type": "code",
   "execution_count": 6,
   "metadata": {},
   "outputs": [
    {
     "name": "stdout",
     "output_type": "stream",
     "text": [
      "0.963273046863\n",
      "1.38888658339\n",
      "1.34307926866\n"
     ]
    }
   ],
   "source": [
    "for tree in s.trees:\n",
    "    print complexity.nwidth(tree)\n",
    "    print complexity.ndepth(tree)\n",
    "    print complexity.nbalanced(tree)"
   ]
  },
  {
   "cell_type": "code",
   "execution_count": 7,
   "metadata": {},
   "outputs": [
    {
     "data": {
      "text/plain": [
       "273423172"
      ]
     },
     "execution_count": 7,
     "metadata": {},
     "output_type": "execute_result"
    }
   ],
   "source": [
    "hash(corpus)"
   ]
  },
  {
   "cell_type": "code",
   "execution_count": null,
   "metadata": {
    "collapsed": true
   },
   "outputs": [],
   "source": []
  }
 ],
 "metadata": {
  "kernelspec": {
   "display_name": "Python 2",
   "language": "python",
   "name": "python2"
  },
  "language_info": {
   "codemirror_mode": {
    "name": "ipython",
    "version": 2
   },
   "file_extension": ".py",
   "mimetype": "text/x-python",
   "name": "python",
   "nbconvert_exporter": "python",
   "pygments_lexer": "ipython2",
   "version": "2.7.14"
  }
 },
 "nbformat": 4,
 "nbformat_minor": 2
}
