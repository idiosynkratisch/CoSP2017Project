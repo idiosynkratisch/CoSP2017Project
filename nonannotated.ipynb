{
 "cells": [
  {
   "cell_type": "code",
   "execution_count": 17,
   "metadata": {},
   "outputs": [],
   "source": [
    "from swda_time import CorpusReader\n",
    "\n",
    "corpus = CorpusReader('swda_merged', 'swda_merged/swda-metadata.csv')"
   ]
  },
  {
   "cell_type": "code",
   "execution_count": 33,
   "metadata": {},
   "outputs": [
    {
     "name": "stdout",
     "output_type": "stream",
     "text": [
      "29\n",
      "1155\n"
     ]
    }
   ],
   "source": [
    "total = 0\n",
    "untagged = []\n",
    "\n",
    "for trans in corpus.iter_transcripts(display_progress=False):\n",
    "    if filter(lambda x: x.pos != '', list(trans.utterances)) == []:\n",
    "        untagged.append(trans)\n",
    "    total += 1\n",
    "    \n",
    "print len(untagged)\n",
    "print total"
   ]
  },
  {
   "cell_type": "code",
   "execution_count": 34,
   "metadata": {},
   "outputs": [
    {
     "name": "stdout",
     "output_type": "stream",
     "text": [
      "2335\n",
      "2347\n",
      "2505\n",
      "2567\n",
      "2632\n",
      "2702\n",
      "2733\n",
      "2752\n",
      "2753\n",
      "2838\n",
      "3035\n",
      "3129\n",
      "3469\n",
      "3520\n",
      "3528\n",
      "3924\n",
      "3936\n",
      "3942\n",
      "3968\n",
      "3994\n",
      "4002\n",
      "4102\n",
      "4157\n",
      "4167\n",
      "4179\n",
      "4384\n",
      "4622\n",
      "4643\n",
      "4771\n"
     ]
    }
   ],
   "source": [
    "for trans in untagged:\n",
    "    print trans.conversation_no"
   ]
  },
  {
   "cell_type": "code",
   "execution_count": null,
   "metadata": {
    "collapsed": true
   },
   "outputs": [],
   "source": []
  },
  {
   "cell_type": "code",
   "execution_count": null,
   "metadata": {
    "collapsed": true
   },
   "outputs": [],
   "source": []
  }
 ],
 "metadata": {
  "kernelspec": {
   "display_name": "Python 2",
   "language": "python",
   "name": "python2"
  },
  "language_info": {
   "codemirror_mode": {
    "name": "ipython",
    "version": 2
   },
   "file_extension": ".py",
   "mimetype": "text/x-python",
   "name": "python",
   "nbconvert_exporter": "python",
   "pygments_lexer": "ipython2",
   "version": "2.7.14"
  }
 },
 "nbformat": 4,
 "nbformat_minor": 2
}
